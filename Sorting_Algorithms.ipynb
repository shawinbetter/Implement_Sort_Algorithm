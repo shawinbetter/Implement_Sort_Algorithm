{
 "cells": [
  {
   "cell_type": "code",
   "execution_count": 1,
   "metadata": {},
   "outputs": [],
   "source": [
    "import numpy as np\n",
    "import sys\n",
    "# nums = [3,44,38,5,15,27,1,99,36]\n",
    "nums = list(np.random.randint(0,10000,10000))\n",
    "ans = sorted(nums)"
   ]
  },
  {
   "cell_type": "markdown",
   "metadata": {},
   "source": [
    "# Bubble Sort"
   ]
  },
  {
   "cell_type": "markdown",
   "metadata": {},
   "source": [
    "时间复杂度为 O(N^2)\n",
    "\n",
    "空间复杂度为 O(1)"
   ]
  },
  {
   "cell_type": "code",
   "execution_count": 3,
   "metadata": {},
   "outputs": [
    {
     "name": "stdout",
     "output_type": "stream",
     "text": [
      "一共比较了49995000次\n",
      "一共交换了24765185次\n",
      "一共操作了74760185次\n"
     ]
    }
   ],
   "source": [
    "def bubble_sort(nums,printed=False):\n",
    "    \"\"\"\n",
    "    普通冒泡排序\n",
    "    \"\"\"\n",
    "    ans = nums.copy()\n",
    "    n = len(ans)\n",
    "    times_of_compare = 0\n",
    "    times_of_swap = 0\n",
    "    for i in range(n-1): #比较n-1轮\n",
    "        for j in range(1,n-i): #每次比较n-1次\n",
    "            times_of_compare += 1\n",
    "            if ans[j-1] > ans[j]:\n",
    "                times_of_swap += 1\n",
    "                ans[j-1],ans[j] = ans[j],ans[j-1]\n",
    "    if printed:\n",
    "        print('一共比较了%d次' %times_of_compare)\n",
    "        print('一共交换了%d次' %times_of_swap)\n",
    "        print('一共操作了%d次'%(times_of_compare+times_of_swap))\n",
    "    return ans\n",
    "assert bubble_sort(nums,printed=True) == ans"
   ]
  },
  {
   "cell_type": "markdown",
   "metadata": {},
   "source": [
    "时间复杂度为 O(N^2),最好情况为O(N),即比较了第一轮已经排序成功，第二轮比较时flag没有被赋值为True,循环结束。\n",
    "\n",
    "空间复杂度为 O(1)"
   ]
  },
  {
   "cell_type": "code",
   "execution_count": 4,
   "metadata": {},
   "outputs": [
    {
     "name": "stdout",
     "output_type": "stream",
     "text": [
      "一共比较了49993109次\n",
      "一共交换了24765185次\n",
      "一共操作了74758294次\n"
     ]
    }
   ],
   "source": [
    "def bubble_sort_with_flag(nums,printed=False):\n",
    "    \"\"\"\n",
    "    带有排序指示flag的冒泡排序\n",
    "    \"\"\"\n",
    "    ans = nums.copy()\n",
    "    n = len(ans)\n",
    "    times_of_compare = 0\n",
    "    times_of_swap = 0\n",
    "    flag = True #一个信号来检查每轮是否已经排好序\n",
    "    i = 0\n",
    "    while flag: #比较n-1轮\n",
    "        flag = False\n",
    "        for j in range(1,n-i): #每次比较n-1次\n",
    "            times_of_compare += 1\n",
    "            if ans[j-1] > ans[j]:\n",
    "                times_of_swap +=1\n",
    "                ans[j-1],ans[j] = ans[j],ans[j-1]\n",
    "                flag = True\n",
    "        i+=1\n",
    "    if printed:\n",
    "        print('一共比较了%d次' %times_of_compare)\n",
    "        print('一共交换了%d次' %times_of_swap)\n",
    "        print('一共操作了%d次'%(times_of_compare+times_of_swap))\n",
    "    return ans\n",
    "assert bubble_sort_with_flag(nums,printed=True) == ans"
   ]
  },
  {
   "cell_type": "markdown",
   "metadata": {},
   "source": [
    "时间复杂度为 O(N^2),最好情况为O(N),即比较了第一轮已经排序成功，第二轮比较时flag没有被赋值为True,循环结束。\n",
    "\n",
    "空间复杂度为 O(1)"
   ]
  },
  {
   "cell_type": "code",
   "execution_count": 5,
   "metadata": {},
   "outputs": [
    {
     "name": "stdout",
     "output_type": "stream",
     "text": [
      "一共比较了49988613次\n",
      "一共交换了24765185次\n",
      "一共操作了74753798次\n"
     ]
    }
   ],
   "source": [
    "def bubble_sort_with_flag_and_pos(nums,printed=False):\n",
    "    \"\"\"\n",
    "    带有排序指示flag和上轮比较最后指针pos的冒泡排序\n",
    "    \"\"\"\n",
    "    ans = nums.copy()\n",
    "    n = len(ans)\n",
    "    times_of_compare = 0\n",
    "    times_of_swap = 0\n",
    "    flag = True #一个信号来检查每轮是否已经排好序\n",
    "    pos = n #一个信号来记录上次排序中最后发生交换的index，然后下次遍历比较中指针到pos位就结束了\n",
    "    while flag: #比较n-1轮\n",
    "        flag = False\n",
    "        for j in range(1,pos): #每次比较n-1次\n",
    "            times_of_compare += 1\n",
    "            if ans[j-1] > ans[j]:\n",
    "                times_of_swap +=1\n",
    "                ans[j-1],ans[j] = ans[j],ans[j-1]\n",
    "                flag = True\n",
    "                pos = j\n",
    "    if printed:\n",
    "        print('一共比较了%d次' %times_of_compare)\n",
    "        print('一共交换了%d次' %times_of_swap)\n",
    "        print('一共操作了%d次'%(times_of_compare+times_of_swap))\n",
    "    return ans\n",
    "assert bubble_sort_with_flag_and_pos(nums,printed=True) == ans"
   ]
  },
  {
   "cell_type": "markdown",
   "metadata": {},
   "source": [
    "# Insertion Sort"
   ]
  },
  {
   "cell_type": "markdown",
   "metadata": {},
   "source": [
    "时间复杂度为 O(N^2),最好情况为O(N)。\n",
    "\n",
    "空间复杂度为 O(1)"
   ]
  },
  {
   "cell_type": "code",
   "execution_count": 6,
   "metadata": {},
   "outputs": [
    {
     "name": "stdout",
     "output_type": "stream",
     "text": [
      "一共比较了24765185次\n",
      "一共交换了24765185次\n",
      "一共操作了49530370次\n"
     ]
    }
   ],
   "source": [
    "def insertion_sort(nums,printed=False):\n",
    "    \"\"\"\n",
    "    普通插入排序\n",
    "    \"\"\"\n",
    "    ans = nums.copy()\n",
    "    n = len(ans)\n",
    "    times_of_compare = 0\n",
    "    times_of_swap = 0\n",
    "    for i in range(1,n):\n",
    "        tmp = i\n",
    "        while ans[tmp] < ans[tmp-1] and tmp > 0: #当右边元素比左边元素小时，交换两者元素\n",
    "            times_of_compare += 1\n",
    "            times_of_swap +=1\n",
    "            ans[tmp],ans[tmp-1] = ans[tmp-1],ans[tmp] #交换\n",
    "            tmp -=1 #下标左移一位\n",
    "    if printed:\n",
    "        print('一共比较了%d次' %times_of_compare)\n",
    "        print('一共交换了%d次' %times_of_swap)\n",
    "        print('一共操作了%d次'%(times_of_compare+times_of_swap))\n",
    "    return ans\n",
    "assert insertion_sort(nums,printed=True)==ans"
   ]
  },
  {
   "cell_type": "markdown",
   "metadata": {},
   "source": [
    "时间复杂度为 O(N^2),最好情况为O(N),下标搜索的时间复杂度由O(k)变为O(logk),k为要插入元素的下标。\n",
    "\n",
    "空间复杂度为 O(1)"
   ]
  },
  {
   "cell_type": "code",
   "execution_count": 7,
   "metadata": {},
   "outputs": [
    {
     "name": "stdout",
     "output_type": "stream",
     "text": [
      "一共比较了9999次\n",
      "一共交换了24765765次\n",
      "一共操作了24775764次\n"
     ]
    }
   ],
   "source": [
    "def binary_search_right_border(nums,target):\n",
    "    \"\"\"\n",
    "    在升序数组中找到target应该插入的位置\n",
    "    如在数组[1,2,3,5,6]中，target = 4,返回index=3\n",
    "    \"\"\"\n",
    "    if not nums:\n",
    "        return -1\n",
    "    times_of_compare = 0\n",
    "    l, r = 0, len(nums)\n",
    "    while l < r:\n",
    "        times_of_compare += 1\n",
    "        mid = l + (r - l) // 2\n",
    "        if target == nums[mid]:\n",
    "            l = mid + 1\n",
    "        if target > nums[mid]:\n",
    "            l = mid + 1\n",
    "        else:\n",
    "            r = mid\n",
    "        times_of_compare += 1\n",
    "    return l,times_of_compare\n",
    "\n",
    "def insertion_sort_with_binary_search(nums,printed=False):\n",
    "    \"\"\"\n",
    "    使用二分查找搜索插入位置的插入排序\n",
    "    \"\"\"\n",
    "    ans = nums.copy()\n",
    "    n = len(ans)\n",
    "    times_of_swap = 0\n",
    "    times_of_compare = 0 \n",
    "    for i in range(1,n):\n",
    "        tmp = i\n",
    "        pos,toc = binary_search_right_border(ans[0:i],ans[i])\n",
    "        times_of_compare += 1\n",
    "        while tmp != pos: #当tmp指针还没移动到pos位时执行交换；当在pos+1位时执行最后一次交换后，tmp==pos，达到终止条件\n",
    "            times_of_swap +=1\n",
    "            ans[tmp],ans[tmp-1] = ans[tmp-1],ans[tmp] #交换\n",
    "            tmp -=1 #下标左移一位\n",
    "    if printed:\n",
    "        print('一共比较了%d次' %times_of_compare)\n",
    "        print('一共交换了%d次' %times_of_swap)\n",
    "        print('一共操作了%d次'%(times_of_compare+times_of_swap))\n",
    "    return ans\n",
    "assert insertion_sort_with_binary_search(nums,printed=True)==ans"
   ]
  },
  {
   "cell_type": "markdown",
   "metadata": {},
   "source": [
    "# Merge Sort"
   ]
  },
  {
   "cell_type": "markdown",
   "metadata": {},
   "source": [
    "时间复杂度为 O(N^2)。\n",
    "\n",
    "空间复杂度为 O(N)"
   ]
  },
  {
   "cell_type": "code",
   "execution_count": 8,
   "metadata": {},
   "outputs": [
    {
     "name": "stdout",
     "output_type": "stream",
     "text": [
      "一共比较了136628次\n",
      "一共交换了133616次\n",
      "一共操作了270244次\n"
     ]
    }
   ],
   "source": [
    "class Merge_Sort:\n",
    "    def __init__(self):\n",
    "        self.times_of_compare = 0\n",
    "        self.times_of_swap = 0\n",
    "        \n",
    "    def merge(self,nums,l,m,r):\n",
    "        i,j = l,m+1 #左右游标\n",
    "        tmp = [] #临时数组存储元素\n",
    "        while i <= m and j <= r:\n",
    "            self.times_of_compare  += 1\n",
    "            if nums[i] < nums[j]:  #小于的添加左边元素 \n",
    "                tmp.append(nums[i])\n",
    "                self.times_of_swap +=1\n",
    "                i += 1\n",
    "            elif nums[i] > nums[j]: #小于的添加右边元素\n",
    "                tmp.append(nums[j])\n",
    "                self.times_of_swap +=1\n",
    "                j+=1\n",
    "            else: #若两边元素相等则同时添加2次后，左右游标各加一\n",
    "                tmp.append(nums[i])\n",
    "                tmp.append(nums[j])\n",
    "                self.times_of_swap +=2\n",
    "                i += 1\n",
    "                j += 1\n",
    "        if i > m and j > r: #如果终止的原因是两边的数组都被排序完毕\n",
    "            self.times_of_compare  += 1\n",
    "            pass\n",
    "        elif i > m: #若左游标超出了边界，但右边的数组元素还未被完全添加，则添加右边的所有元素\n",
    "            self.times_of_compare  += 1\n",
    "            tmp.extend(nums[j:r+1])\n",
    "            self.times_of_swap += (r+1-j)\n",
    "        else:#若右游标超出了边界，但左边的数组元素还未被完全添加，则添加左边的所有元素\n",
    "            self.times_of_compare  += 1\n",
    "            tmp.extend(nums[i:m+1])\n",
    "            self.times_of_swap += (m+1-i)\n",
    "        nums[l:r+1] = tmp\n",
    "\n",
    "    def mergesort(self,nums,l,r):\n",
    "        if l < r:\n",
    "            self.times_of_compare += 1\n",
    "            m = (l+r)//2 #取中点\n",
    "            self.mergesort(nums,l,m) #对左边进行归并排序\n",
    "            self.mergesort(nums,m+1,r) #对右边进行归并拍醒\n",
    "            self.merge(nums,l,m,r) #对两边的升序序列进行合并操作\n",
    "        else: #不满足递归条件直接返回\n",
    "            return\n",
    "    def Merge_Sort(self,nums,printed=False):\n",
    "        if len(nums) <= 1:\n",
    "            return nums\n",
    "        ans = nums.copy()\n",
    "        self.mergesort(ans,0,len(ans)-1)\n",
    "        if printed:\n",
    "            print('一共比较了%d次' %self.times_of_compare)\n",
    "            print('一共交换了%d次' %self.times_of_swap)\n",
    "            print('一共操作了%d次'%(self.times_of_compare+self.times_of_swap))\n",
    "        return ans\n",
    "    \n",
    "assert Merge_Sort().Merge_Sort(nums,printed=True)==ans"
   ]
  },
  {
   "cell_type": "markdown",
   "metadata": {},
   "source": [
    "## BucketSort / CountSort/ RadixSort"
   ]
  },
  {
   "cell_type": "markdown",
   "metadata": {},
   "source": [
    "### Bucket Sort:\n",
    "\n",
    "要求数组的取值范围不能过大，可以为int或者float。\n",
    "\n",
    "时间复杂度：对于N个元素，假设分成M个桶，N个元素均匀分布在M个桶中。每个桶中元素为L = N/M，排序时间复杂度为O(L*logL),总体时间复杂度为 M*O(L*LogL) = N * Log (N/M). 若M足够大，那么N/M可以看成是一个常数，总体时间复杂度为O(N)\n",
    "\n",
    "空间复杂度：O(M)\n",
    "\n",
    "### Count_Sort:\n",
    "\n",
    "要求数组的取值范围不能过大，且必须为int型\n",
    "\n",
    "时间复杂度: 遍历一遍待排序的数组后，再遍历一遍存储的数组，因此为O(N)\n",
    "\n",
    "空间复杂度: O(M)\n",
    "\n",
    "### Radix Sort:\n",
    "\n",
    "对数组的范围没有要求，但必须为int型\n",
    "\n",
    "时间复杂度：O(k*n), 其中k为最大数字的位数，一般不会超过30，因此也可以看成O(N)的复杂度\n",
    "\n",
    "空间复杂度：O(N)\n"
   ]
  },
  {
   "cell_type": "code",
   "execution_count": 9,
   "metadata": {},
   "outputs": [],
   "source": [
    "def Bucket_Sort(nums):\n",
    "    \"\"\"\n",
    "    前提是知道数组的取值范围，可以为int或者float\n",
    "    \"\"\"\n",
    "    tmp = nums.copy()\n",
    "    bucket = [[] for i in range(10000 // 100)] #生成桶，这里由于数组范围为1~10000，分成100个桶比较合适\n",
    "    for i in tmp:\n",
    "        bucket[i//100].append(i) #把每个元素放进对应的桶里\n",
    "    for i in range(len(bucket)):\n",
    "        bucket[i] =  Merge_Sort().Merge_Sort(bucket[i]) #每个桶进行单独的排序\n",
    "    ans = []\n",
    "    for i in bucket:\n",
    "        ans.extend(i) #按照递增的顺序把桶里已经排序好的元素放进数组里面\n",
    "    return ans \n",
    "\n",
    "assert Bucket_Sort(nums)==ans"
   ]
  },
  {
   "cell_type": "code",
   "execution_count": 10,
   "metadata": {},
   "outputs": [
    {
     "name": "stdout",
     "output_type": "stream",
     "text": [
      "一共操作了30000次\n"
     ]
    }
   ],
   "source": [
    "def Count_Sort(nums,printed=False):\n",
    "    \"\"\"\n",
    "    前提是知道数组的取值范围且都为int数\n",
    "    \"\"\"\n",
    "    times_of_operation = 0\n",
    "    arr = [0] * 10000\n",
    "    for i in nums:\n",
    "        times_of_operation += 1\n",
    "        arr[i] += 1\n",
    "    ans = []\n",
    "    for i in range(len(arr)):\n",
    "        times_of_operation += 1\n",
    "        ans.extend([i]*arr[i]) #将下标放进ans数组里面arr[i]次。若arr[i] == 0,说明无此元素，则无法被添加进去\n",
    "        times_of_operation += arr[i]\n",
    "    if printed:\n",
    "        print('一共操作了%d次'%(times_of_operation))\n",
    "    return ans\n",
    "\n",
    "assert Count_Sort(nums,printed=True)==ans"
   ]
  },
  {
   "cell_type": "code",
   "execution_count": 11,
   "metadata": {},
   "outputs": [],
   "source": [
    "def Radix_Sort(nums):\n",
    "    \"\"\"\n",
    "    前提是数组均为int型整数，无需限制数组的范围\n",
    "    \"\"\"\n",
    "    max_nums = max(nums) #获取数组最大值\n",
    "    max_radix = len(str(max_nums)) #获取最大值的位数，来确定k。如最大数为987，max_rax = 3\n",
    "    ans = nums.copy()\n",
    "    for i in range(max_radix):     \n",
    "        tmp = [[] for i in range(10)] #初始化10个桶，每个桶装位数对应的数\n",
    "        for num in ans:\n",
    "            tmp[num // (10 ** i) % 10].append(int(num))\n",
    "        ans = [] #清空ans数组\n",
    "        for t in tmp:\n",
    "            ans.extend(t) #按递增顺序依次装入桶中元素\n",
    "    return ans\n",
    "\n",
    "assert Radix_Sort(nums) == ans"
   ]
  },
  {
   "cell_type": "markdown",
   "metadata": {},
   "source": [
    "# HeapSort"
   ]
  },
  {
   "cell_type": "markdown",
   "metadata": {},
   "source": [
    "时间复杂度： 插入O(N*logN),交换堆顶元素到最后O(1),维护堆为最大堆状态O(N*logN).总共O(N*logN)的时间复杂度\n",
    "\n",
    "空间复杂度：只在原来数组上操作，O(N)"
   ]
  },
  {
   "cell_type": "code",
   "execution_count": 12,
   "metadata": {},
   "outputs": [],
   "source": [
    "class Heap:\n",
    "    def __init__(self,nums):\n",
    "        self.ans = nums.copy() #赋值待排序数组\n",
    "    \n",
    "    def insert(self):\n",
    "        for i in range(len(self.ans)):\n",
    "            if i == 0: #如果是第一个元素，直接当作头结点\n",
    "                continue \n",
    "            else:\n",
    "                cur_index = i #当前待插入的元素下标\n",
    "                parent_index = (i-1)//2 #父节点的下标\n",
    "                \n",
    "                while cur_index > 0 and parent_index >=0: #当待插入的下标和父节点的下标均在数组里面时\n",
    "                    node = self.ans[cur_index]\n",
    "                    parent = self.ans[parent_index]\n",
    "                    if parent >= node: #如果父母节点元素较大，那么无需改变此时数组元素的位置，直接跳出while循环，进入下一个for循环\n",
    "                        break\n",
    "                    else:\n",
    "                        #如果父母节点较小，交换两者的元素，同时更新当前下标和父节点下标\n",
    "                        self.ans[cur_index],self.ans[parent_index] = self.ans[parent_index],self.ans[cur_index]\n",
    "                        cur_index = parent_index\n",
    "                        parent_index = (parent_index - 1)//2\n",
    "    \n",
    "    def get_bigger_child_index(self,left_index,right_index,border):\n",
    "        \"\"\"\n",
    "        返回两个子节点中较大节点的下标\n",
    "        \"\"\"\n",
    "        if left_index >= border: #若左节点已经出界了，可以判定无需进行交换，返回None\n",
    "            return None\n",
    "        elif right_index >= border:#若只有右节点出了边界，左节点没出，只返回左节点\n",
    "            return left_index\n",
    "        elif self.ans[left_index] >= self.ans[right_index]: #只返回较大节点的下标，下同\n",
    "            return left_index\n",
    "        else:\n",
    "            return right_index\n",
    "    \n",
    "    def sort(self):\n",
    "        n = len(self.ans)\n",
    "        self.insert() #先组建Heap\n",
    "        \n",
    "        for i in range(len(self.ans)):\n",
    "            border = n - 1 - i #指示Heap和已排序部分的边界，ans[border-1]为Heap，ans[border]为已排序部分\n",
    "            self.ans[0],self.ans[border] = self.ans[border],self.ans[0] #删除Heap的头结点并与边界交换\n",
    "            cur_index = 0\n",
    "            bigger_child_index = self.get_bigger_child_index(cur_index*2+1,cur_index*2+2,border)\n",
    "            while cur_index < border and bigger_child_index != None:\n",
    "                if self.ans[cur_index] < self.ans[bigger_child_index]:\n",
    "                    self.ans[cur_index],self.ans[bigger_child_index] = self.ans[bigger_child_index],self.ans[cur_index]\n",
    "                    cur_index = bigger_child_index\n",
    "                    bigger_child_index = self.get_bigger_child_index(cur_index*2+1,cur_index*2+2,border)\n",
    "                else:\n",
    "                    break\n",
    "        return self.ans\n",
    "\n",
    "assert Heap(nums).sort() == ans"
   ]
  },
  {
   "cell_type": "markdown",
   "metadata": {},
   "source": [
    "## Random Quick Sort"
   ]
  },
  {
   "cell_type": "code",
   "execution_count": 13,
   "metadata": {},
   "outputs": [],
   "source": [
    "def randomized_partition(nums,l,r):\n",
    "    \"\"\"\n",
    "    根据给定的数组和边界进行随机partition\n",
    "    \"\"\"\n",
    "    j = np.random.randint(l,r+1) #随机生成pivot的下标\n",
    "    nums[j],nums[r] = nums[r],nums[j] #与末尾元素交换\n",
    "    pivot = nums[r]\n",
    "    \n",
    "    i = l - 1\n",
    "    for j in range(l,r): #参考partition过程，\n",
    "        if nums[j] <= pivot: \n",
    "            i += 1 \n",
    "            nums[i],nums[j] = nums[j],nums[i] #交换元素\n",
    "    nums[i+1],nums[r] = nums[r],nums[i+1] #把在末尾的中枢移动到应在的位置\n",
    "    return i+1 #返回中枢的下标\n",
    "\n",
    "def random_quick_sort(nums,l,r):\n",
    "    \"\"\"\n",
    "    随机快排递归程序\n",
    "    \"\"\"\n",
    "    if l < r:\n",
    "        q = randomized_partition(nums,l,r)\n",
    "        random_quick_sort(nums,l,q-1) #对左边进行partition\n",
    "        random_quick_sort(nums,q,r) #对右边进行partition\n",
    "\n",
    "def main_random_quick_sort(nums):\n",
    "    ans = nums.copy()\n",
    "    random_quick_sort(ans,0,len(ans)-1)\n",
    "    return ans\n",
    "\n",
    "assert main_random_quick_sort(nums) == ans"
   ]
  },
  {
   "cell_type": "markdown",
   "metadata": {},
   "source": [
    "## Comparison"
   ]
  },
  {
   "cell_type": "code",
   "execution_count": null,
   "metadata": {},
   "outputs": [
    {
     "name": "stdout",
     "output_type": "stream",
     "text": [
      "13.1 s ± 807 ms per loop (mean ± std. dev. of 7 runs, 1 loop each)\n"
     ]
    }
   ],
   "source": [
    "import matplotlib.pyplot as plt\n",
    "ten_4 = list(np.random.randint(0,10000,10000))\n",
    "%timeit bubble_sort(ten_4)\n",
    "%timeit bubble_sort_with_flag(ten_4)\n",
    "%timeit bubble_sort_with_flag_and_pos(ten_4)\n",
    "%timeit insertion_sort(ten_4)\n",
    "%timeit insertion_sort_with_binary_search(ten_4)\n",
    "%timeit Merge_Sort().Merge_Sort(ten_4)\n",
    "%timeit Bucket_Sort(ten_4)\n",
    "%timeit Count_Sort(ten_4)\n",
    "%timeit Radix_Sort(ten_4)\n",
    "%timeit Heap(ten_4).sort()\n",
    "%timeit main_random_quick_sort(ten_4)"
   ]
  },
  {
   "cell_type": "code",
   "execution_count": null,
   "metadata": {},
   "outputs": [],
   "source": [
    "ten_5 = list(np.random.randint(0,100000,100000))\n",
    "%timeit bubble_sort(ten_5)\n",
    "%timeit bubble_sort_with_flag(ten_5)\n",
    "%timeit bubble_sort_with_flag_and_pos(ten_5)\n",
    "%timeit insertion_sort(ten_5)\n",
    "%timeit insertion_sort_with_binary_search(ten_5)\n",
    "%timeit Merge_Sort().Merge_Sort(ten_5)\n",
    "%timeit Bucket_Sort(ten_5)\n",
    "%timeit Count_Sort(ten_5)\n",
    "%timeit Radix_Sort(ten_5)\n",
    "%timeit Heap(ten_5).sort()\n",
    "%timeit main_random_quick_sort(ten_5)"
   ]
  },
  {
   "cell_type": "code",
   "execution_count": null,
   "metadata": {},
   "outputs": [],
   "source": [
    "ten_6 = list(np.random.randint(0,1000000,1000000))\n",
    "%timeit bubble_sort(ten_6)\n",
    "%timeit bubble_sort_with_flag(ten_6)\n",
    "%timeit bubble_sort_with_flag_and_pos(ten_6)\n",
    "%timeit insertion_sort(ten_6)\n",
    "%timeit insertion_sort_with_binary_search(ten_6)\n",
    "%timeit Merge_Sort().Merge_Sort(ten_6)\n",
    "%timeit Bucket_Sort(ten_6)\n",
    "%timeit Count_Sort(ten_6)\n",
    "%timeit Radix_Sort(ten_6)\n",
    "%timeit Heap(ten_6).sort()\n",
    "%timeit main_random_quick_sort(ten_6)"
   ]
  },
  {
   "cell_type": "code",
   "execution_count": null,
   "metadata": {},
   "outputs": [],
   "source": [
    "speed_4 = [112,115,113,92.4,58.4,4.91,6.46,6.56,3.69,2.26,1.15]\n",
    "speed_5 = [11700,11500,11800,9810,6740,69,86.9,75,40.8,3.76,16.1]\n",
    "speed_6 = []\n",
    "label=['Bubble Sort','Bubble Sort with Flag','Bubble Sort with Flag and Pos','Insertion Sort','Insertion Sort with Binary Search',\n",
    "      'Merge Sort','Heap Sort','Random Quick Sort','Bucket Sort','Count Sort','Radix Sort']\n",
    "dic = dict(zip(label,speed))\n",
    "dic_order = sorted(dic.items(), key=lambda k: k[1],reverse=True)\n",
    "plt.figure(figsize=[12,5],dpi=100)\n",
    "plt.bar(range(11),speed4,label='10,000 Data')\n",
    "plt.bar(range(11),speed5,label='100,000 Data')\n",
    "plt.bar(range(11),speed6,label='1,000,000 Data')\n",
    "plt.xticks(range(11),label,rotation=70)\n",
    "plt.xlabel('Algorithm')\n",
    "plt.ylabel('Spedd(ms)')\n",
    "plt.legend()\n",
    "plt.title('Comparison Between Each Sorting Algorithm in 1,000 data')"
   ]
  }
 ],
 "metadata": {
  "kernelspec": {
   "display_name": "Python 3",
   "language": "python",
   "name": "python3"
  },
  "language_info": {
   "codemirror_mode": {
    "name": "ipython",
    "version": 3
   },
   "file_extension": ".py",
   "mimetype": "text/x-python",
   "name": "python",
   "nbconvert_exporter": "python",
   "pygments_lexer": "ipython3",
   "version": "3.8.5"
  }
 },
 "nbformat": 4,
 "nbformat_minor": 4
}
