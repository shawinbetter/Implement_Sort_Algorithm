{
 "cells": [
  {
   "cell_type": "code",
   "execution_count": null,
   "metadata": {},
   "outputs": [],
   "source": [
    "import numpy as np\n",
    "import sys\n",
    "# nums = [3,44,38,5,15,27,1,99,36]\n",
    "nums = list(np.random.randint(0,10000,10000))\n",
    "ans = sorted(nums)"
   ]
  },
  {
   "cell_type": "code",
   "execution_count": null,
   "metadata": {},
   "outputs": [],
   "source": [
    "# %timeit sorted(nums)"
   ]
  },
  {
   "cell_type": "markdown",
   "metadata": {},
   "source": [
    "# Bubble Sort"
   ]
  },
  {
   "cell_type": "code",
   "execution_count": 3,
   "metadata": {},
   "outputs": [
    {
     "name": "stdout",
     "output_type": "stream",
     "text": [
      "一共比较了49995000次\n",
      "一共交换了25174336次\n",
      "一共操作了75169336次\n"
     ]
    }
   ],
   "source": [
    "def bubble_sort(nums):\n",
    "    ans = nums.copy()\n",
    "    n = len(ans)\n",
    "    times_of_compare = 0\n",
    "    times_of_swap = 0\n",
    "    for i in range(n-1): #比较n-1轮\n",
    "        for j in range(1,n-i): #每次比较n-1次\n",
    "            times_of_compare += 1\n",
    "            if ans[j-1] > ans[j]:\n",
    "                times_of_swap += 1\n",
    "                ans[j-1],ans[j] = ans[j],ans[j-1]\n",
    "    print('一共比较了%d次' %times_of_compare)\n",
    "    print('一共交换了%d次' %times_of_swap)\n",
    "    print('一共操作了%d次'%(times_of_compare+times_of_swap))\n",
    "    return ans\n",
    "assert bubble_sort(nums) == ans"
   ]
  },
  {
   "cell_type": "code",
   "execution_count": 4,
   "metadata": {},
   "outputs": [
    {
     "name": "stdout",
     "output_type": "stream",
     "text": [
      "一共比较了49979600次\n",
      "一共交换了25174336次\n",
      "一共操作了75153936次\n"
     ]
    }
   ],
   "source": [
    "def bubble_sort_with_flag(nums):\n",
    "    ans = nums.copy()\n",
    "    n = len(ans)\n",
    "    times_of_compare = 0\n",
    "    times_of_swap = 0\n",
    "    flag = True #一个信号来检查每轮是否已经排好序\n",
    "    i = 0\n",
    "    while flag: #比较n-1轮\n",
    "        flag = False\n",
    "        for j in range(1,n-i): #每次比较n-1次\n",
    "            times_of_compare += 1\n",
    "            if ans[j-1] > ans[j]:\n",
    "                times_of_swap +=1\n",
    "                ans[j-1],ans[j] = ans[j],ans[j-1]\n",
    "                flag = True\n",
    "        i+=1\n",
    "    print('一共比较了%d次' %times_of_compare)\n",
    "    print('一共交换了%d次' %times_of_swap)\n",
    "    print('一共操作了%d次'%(times_of_compare+times_of_swap))\n",
    "    return ans\n",
    "assert bubble_sort_with_flag(nums) == ans"
   ]
  },
  {
   "cell_type": "code",
   "execution_count": 5,
   "metadata": {},
   "outputs": [
    {
     "name": "stdout",
     "output_type": "stream",
     "text": [
      "一共比较了49949257次\n",
      "一共交换了25174336次\n",
      "一共操作了75123593次\n"
     ]
    }
   ],
   "source": [
    "def bubble_sort_with_flag_and_pos(nums):\n",
    "    ans = nums.copy()\n",
    "    n = len(ans)\n",
    "    times_of_compare = 0\n",
    "    times_of_swap = 0\n",
    "    flag = True #一个信号来检查每轮是否已经排好序\n",
    "    pos = n #一个信号来记录上次排序中最后发生交换的index，然后下次遍历比较中指针到pos位就结束了\n",
    "    while flag: #比较n-1轮\n",
    "        flag = False\n",
    "        for j in range(1,pos): #每次比较n-1次\n",
    "            times_of_compare += 1\n",
    "            if ans[j-1] > ans[j]:\n",
    "                times_of_swap +=1\n",
    "                ans[j-1],ans[j] = ans[j],ans[j-1]\n",
    "                flag = True\n",
    "                pos = j\n",
    "    print('一共比较了%d次' %times_of_compare)\n",
    "    print('一共交换了%d次' %times_of_swap)\n",
    "    print('一共操作了%d次'%(times_of_compare+times_of_swap))\n",
    "    return ans\n",
    "assert bubble_sort_with_flag_and_pos(nums) == ans"
   ]
  },
  {
   "cell_type": "markdown",
   "metadata": {},
   "source": [
    "# Insertion Sort"
   ]
  },
  {
   "cell_type": "code",
   "execution_count": 6,
   "metadata": {},
   "outputs": [
    {
     "name": "stdout",
     "output_type": "stream",
     "text": [
      "一共比较了25174336次\n",
      "一共交换了25174336次\n",
      "一共操作了50348672次\n"
     ]
    }
   ],
   "source": [
    "def insertion_sort(nums):\n",
    "    ans = nums.copy()\n",
    "    n = len(ans)\n",
    "    times_of_compare = 0\n",
    "    times_of_swap = 0\n",
    "    for i in range(1,n):\n",
    "        tmp = i\n",
    "        while ans[tmp] < ans[tmp-1] and tmp > 0: #当右边元素比左边元素小时，交换两者元素\n",
    "            times_of_compare += 1\n",
    "            times_of_swap +=1\n",
    "            ans[tmp],ans[tmp-1] = ans[tmp-1],ans[tmp] #交换\n",
    "            tmp -=1 #下标左移一位\n",
    "    print('一共比较了%d次' %times_of_compare)\n",
    "    print('一共交换了%d次' %times_of_swap)\n",
    "    print('一共操作了%d次'%(times_of_compare+times_of_swap))\n",
    "    return ans\n",
    "assert insertion_sort(nums)==ans"
   ]
  },
  {
   "cell_type": "code",
   "execution_count": 7,
   "metadata": {},
   "outputs": [
    {
     "name": "stdout",
     "output_type": "stream",
     "text": [
      "一共比较了22次\n",
      "一共交换了25174948次\n",
      "一共操作了25174970次\n"
     ]
    }
   ],
   "source": [
    "def binary_search_right_border(nums,target):\n",
    "    \"\"\"\n",
    "    在升序数组中找到target应该插入的位置\n",
    "    如在数组[1,2,3,5,6]中，target = 4,返回index=3\n",
    "    \"\"\"\n",
    "    if not nums:\n",
    "        return -1\n",
    "    times_of_compare = 0\n",
    "    l, r = 0, len(nums)\n",
    "    while l < r:\n",
    "        times_of_compare += 1\n",
    "        mid = l + (r - l) // 2\n",
    "        if target == nums[mid]:\n",
    "            l = mid + 1\n",
    "        if target > nums[mid]:\n",
    "            l = mid + 1\n",
    "        else:\n",
    "            r = mid\n",
    "        times_of_compare += 1\n",
    "    return l,times_of_compare\n",
    "\n",
    "def insertion_sort_with_binary_search(nums):\n",
    "    ans = nums.copy()\n",
    "    n = len(ans)\n",
    "    times_of_swap = 0\n",
    "    for i in range(1,n):\n",
    "        tmp = i\n",
    "        pos,times_of_compare = binary_search_right_border(ans[0:i],ans[i])\n",
    "        while tmp != pos: #当tmp指针还没移动到pos位时执行交换；当在pos+1位时执行最后一次交换后，tmp==pos，达到终止条件\n",
    "            times_of_swap +=1\n",
    "            ans[tmp],ans[tmp-1] = ans[tmp-1],ans[tmp] #交换\n",
    "            tmp -=1 #下标左移一位\n",
    "    print('一共比较了%d次' %times_of_compare)\n",
    "    print('一共交换了%d次' %times_of_swap)\n",
    "    print('一共操作了%d次'%(times_of_compare+times_of_swap))\n",
    "    return ans\n",
    "assert insertion_sort_with_binary_search(nums)==ans"
   ]
  },
  {
   "cell_type": "markdown",
   "metadata": {},
   "source": [
    "# Merge Sort"
   ]
  },
  {
   "cell_type": "code",
   "execution_count": 10,
   "metadata": {},
   "outputs": [
    {
     "name": "stdout",
     "output_type": "stream",
     "text": [
      "一共比较了136786次\n",
      "一共交换了133616次\n",
      "一共操作了270402次\n"
     ]
    }
   ],
   "source": [
    "class Merge_Sort:\n",
    "    def __init__(self):\n",
    "        self.times_of_compare = 0\n",
    "        self.times_of_swap = 0\n",
    "        \n",
    "    def merge(self,nums,l,m,r):\n",
    "        i,j = l,m+1 #左右游标\n",
    "        tmp = [] #临时数组存储元素\n",
    "        while i <= m and j <= r:\n",
    "            self.times_of_compare  += 1\n",
    "            if nums[i] < nums[j]:  #小于的添加左边元素 \n",
    "                tmp.append(nums[i])\n",
    "                self.times_of_swap +=1\n",
    "                i += 1\n",
    "            elif nums[i] > nums[j]: #小于的添加右边元素\n",
    "                tmp.append(nums[j])\n",
    "                self.times_of_swap +=1\n",
    "                j+=1\n",
    "            else: #若两边元素相等则同时添加2次后，左右游标各加一\n",
    "                tmp.append(nums[i])\n",
    "                tmp.append(nums[j])\n",
    "                self.times_of_swap +=2\n",
    "                i += 1\n",
    "                j += 1\n",
    "        if i > m and j > r: #如果终止的原因是两边的数组都被排序完毕\n",
    "            self.times_of_compare  += 1\n",
    "            pass\n",
    "        elif i > m: #若左游标超出了边界，但右边的数组元素还未被完全添加，则添加右边的所有元素\n",
    "            self.times_of_compare  += 1\n",
    "            tmp.extend(nums[j:r+1])\n",
    "            self.times_of_swap += (r+1-j)\n",
    "        else:#若右游标超出了边界，但左边的数组元素还未被完全添加，则添加左边的所有元素\n",
    "            self.times_of_compare  += 1\n",
    "            tmp.extend(nums[i:m+1])\n",
    "            self.times_of_swap += (m+1-i)\n",
    "        nums[l:r+1] = tmp\n",
    "\n",
    "    def mergesort(self,nums,l,r):\n",
    "        if l < r:\n",
    "            self.times_of_compare += 1\n",
    "            m = (l+r)//2 #取中点\n",
    "            self.mergesort(nums,l,m) #对左边进行归并排序\n",
    "            self.mergesort(nums,m+1,r) #对右边进行归并拍醒\n",
    "            self.merge(nums,l,m,r) #对两边的升序序列进行合并操作\n",
    "        else: #不满足递归条件直接返回\n",
    "            return\n",
    "    def Merge_Sort(self,nums,printed=False):\n",
    "        ans = nums.copy()\n",
    "        self.mergesort(ans,0,len(ans)-1)\n",
    "        if printed:\n",
    "            print('一共比较了%d次' %self.times_of_compare)\n",
    "            print('一共交换了%d次' %self.times_of_swap)\n",
    "            print('一共操作了%d次'%(self.times_of_compare+self.times_of_swap))\n",
    "        return ans\n",
    "    \n",
    "    \n",
    "\n",
    "assert Merge_Sort().Merge_Sort(nums,printed=True)==ans"
   ]
  },
  {
   "cell_type": "markdown",
   "metadata": {},
   "source": [
    "### BucketSort"
   ]
  },
  {
   "cell_type": "code",
   "execution_count": 11,
   "metadata": {},
   "outputs": [],
   "source": [
    "def Bucket_Sort(nums):\n",
    "    \"\"\"\n",
    "    前提是知道数组的取值范围\n",
    "    \"\"\"\n",
    "    tmp = nums.copy()\n",
    "    bucket = [[] for i in range(100)]\n",
    "    for i in tmp:\n",
    "        bucket[i//100].append(i)\n",
    "    for i in range(len(bucket)):\n",
    "        bucket[i] =  Merge_Sort().Merge_Sort(bucket[i])\n",
    "    ans = []\n",
    "    for i in bucket:\n",
    "        ans.extend(i)\n",
    "    return ans \n",
    "\n",
    "assert Bucket_Sort(nums)==ans"
   ]
  },
  {
   "cell_type": "markdown",
   "metadata": {},
   "source": [
    "# HeapSort"
   ]
  }
 ],
 "metadata": {
  "kernelspec": {
   "display_name": "Python 3",
   "language": "python",
   "name": "python3"
  },
  "language_info": {
   "codemirror_mode": {
    "name": "ipython",
    "version": 3
   },
   "file_extension": ".py",
   "mimetype": "text/x-python",
   "name": "python",
   "nbconvert_exporter": "python",
   "pygments_lexer": "ipython3",
   "version": "3.8.5"
  }
 },
 "nbformat": 4,
 "nbformat_minor": 4
}
