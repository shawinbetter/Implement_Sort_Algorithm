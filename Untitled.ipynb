{
 "cells": [
  {
   "cell_type": "code",
   "execution_count": 21,
   "metadata": {},
   "outputs": [],
   "source": [
    "import numpy as np\n",
    "nums = [3,44,38,5,15,27,1,99,36]\n",
    "ans = sorted(nums)"
   ]
  },
  {
   "cell_type": "code",
   "execution_count": 2,
   "metadata": {},
   "outputs": [
    {
     "name": "stdout",
     "output_type": "stream",
     "text": [
      "161 µs ± 638 ns per loop (mean ± std. dev. of 7 runs, 10000 loops each)\n"
     ]
    }
   ],
   "source": [
    "%timeit sorted(nums)"
   ]
  },
  {
   "cell_type": "markdown",
   "metadata": {},
   "source": [
    "# Bubble Sort"
   ]
  },
  {
   "cell_type": "code",
   "execution_count": 79,
   "metadata": {},
   "outputs": [
    {
     "name": "stdout",
     "output_type": "stream",
     "text": [
      "一共比较了36次\n",
      "一共交换了16次\n",
      "一共操作了52次\n"
     ]
    }
   ],
   "source": [
    "def bubble_sort(nums):\n",
    "    ans = nums.copy()\n",
    "    n = len(ans)\n",
    "    times_of_compare = 0\n",
    "    times_of_swap = 0\n",
    "    for i in range(n-1): #比较n-1轮\n",
    "        for j in range(1,n-i): #每次比较n-1次\n",
    "            times_of_compare += 1\n",
    "            if ans[j-1] > ans[j]:\n",
    "                times_of_swap += 1\n",
    "                ans[j-1],ans[j] = ans[j],ans[j-1]\n",
    "    print('一共比较了%d次' %times_of_compare)\n",
    "    print('一共交换了%d次' %times_of_swap)\n",
    "    print('一共操作了%d次'%(times_of_compare+times_of_swap))\n",
    "    return ans\n",
    "assert bubble_sort(nums) == ans"
   ]
  },
  {
   "cell_type": "code",
   "execution_count": 80,
   "metadata": {},
   "outputs": [
    {
     "name": "stdout",
     "output_type": "stream",
     "text": [
      "一共比较了35次\n",
      "一共交换了16次\n",
      "一共操作了51次\n"
     ]
    }
   ],
   "source": [
    "def bubble_sort_with_flag(nums):\n",
    "    ans = nums.copy()\n",
    "    n = len(ans)\n",
    "    times_of_compare = 0\n",
    "    times_of_swap = 0\n",
    "    flag = True #一个信号来检查每轮是否已经排好序\n",
    "    i = 0\n",
    "    while flag: #比较n-1轮\n",
    "        flag = False\n",
    "        for j in range(1,n-i): #每次比较n-1次\n",
    "            times_of_compare += 1\n",
    "            if ans[j-1] > ans[j]:\n",
    "                times_of_swap +=1\n",
    "                ans[j-1],ans[j] = ans[j],ans[j-1]\n",
    "                flag = True\n",
    "        i+=1\n",
    "    print('一共比较了%d次' %times_of_compare)\n",
    "    print('一共交换了%d次' %times_of_swap)\n",
    "    print('一共操作了%d次'%(times_of_compare+times_of_swap))\n",
    "    return ans\n",
    "assert bubble_sort_with_flag(nums) == ans"
   ]
  },
  {
   "cell_type": "code",
   "execution_count": 81,
   "metadata": {},
   "outputs": [
    {
     "name": "stdout",
     "output_type": "stream",
     "text": [
      "一共比较了29次\n",
      "一共交换了16次\n",
      "一共操作了45次\n"
     ]
    }
   ],
   "source": [
    "def bubble_sort_with_flag_and_pos(nums):\n",
    "    ans = nums.copy()\n",
    "    n = len(ans)\n",
    "    times_of_compare = 0\n",
    "    times_of_swap = 0\n",
    "    flag = True #一个信号来检查每轮是否已经排好序\n",
    "    pos = n #一个信号来记录上次排序中最后发生交换的index，然后下次遍历比较中指针到pos位就结束了\n",
    "    while flag: #比较n-1轮\n",
    "        flag = False\n",
    "        for j in range(1,pos): #每次比较n-1次\n",
    "            times_of_compare += 1\n",
    "            if ans[j-1] > ans[j]:\n",
    "                times_of_swap +=1\n",
    "                ans[j-1],ans[j] = ans[j],ans[j-1]\n",
    "                flag = True\n",
    "                pos = j\n",
    "    print('一共比较了%d次' %times_of_compare)\n",
    "    print('一共交换了%d次' %times_of_swap)\n",
    "    print('一共操作了%d次'%(times_of_compare+times_of_swap))\n",
    "    return ans\n",
    "assert bubble_sort_with_flag_and_pos(nums) == ans"
   ]
  },
  {
   "cell_type": "markdown",
   "metadata": {},
   "source": [
    "# Insertion Sort"
   ]
  },
  {
   "cell_type": "code",
   "execution_count": 82,
   "metadata": {},
   "outputs": [
    {
     "name": "stdout",
     "output_type": "stream",
     "text": [
      "一共比较了16次\n",
      "一共交换了16次\n",
      "一共操作了32次\n"
     ]
    }
   ],
   "source": [
    "def insertion_sort(nums):\n",
    "    ans = nums.copy()\n",
    "    n = len(ans)\n",
    "    times_of_compare = 0\n",
    "    times_of_swap = 0\n",
    "    for i in range(1,n):\n",
    "        tmp = i\n",
    "        while ans[tmp] < ans[tmp-1] and tmp > 0: #当右边元素比左边元素小时，交换两者元素\n",
    "            times_of_compare += 1\n",
    "            times_of_swap +=1\n",
    "            ans[tmp],ans[tmp-1] = ans[tmp-1],ans[tmp] #交换\n",
    "            tmp -=1 #下标左移一位\n",
    "    print('一共比较了%d次' %times_of_compare)\n",
    "    print('一共交换了%d次' %times_of_swap)\n",
    "    print('一共操作了%d次'%(times_of_compare+times_of_swap))\n",
    "    return ans\n",
    "assert insertion_sort(nums)==ans"
   ]
  },
  {
   "cell_type": "code",
   "execution_count": 84,
   "metadata": {},
   "outputs": [
    {
     "name": "stdout",
     "output_type": "stream",
     "text": [
      "一共比较了6次\n",
      "一共交换了16次\n",
      "一共操作了22次\n"
     ]
    }
   ],
   "source": [
    "def binary_search_right_border(nums,target):\n",
    "    \"\"\"\n",
    "    在升序数组中找到target应该插入的位置\n",
    "    如在数组[1,2,3,5,6]中，target = 4,返回index=3\n",
    "    \"\"\"\n",
    "    if not nums:\n",
    "        return -1\n",
    "    times_of_compare = 0\n",
    "    l, r = 0, len(nums)\n",
    "    while l < r:\n",
    "        times_of_compare += 1\n",
    "        mid = l + (r - l) // 2\n",
    "        if target == nums[mid]:\n",
    "            l = mid + 1\n",
    "        if target > nums[mid]:\n",
    "            l = mid + 1\n",
    "        else:\n",
    "            r = mid\n",
    "        times_of_compare += 1\n",
    "    return l,times_of_compare\n",
    "\n",
    "def insertion_sort_with_binary_search(nums):\n",
    "    ans = nums.copy()\n",
    "    n = len(ans)\n",
    "    times_of_swap = 0\n",
    "    for i in range(1,n):\n",
    "        tmp = i\n",
    "        pos,times_of_compare = binary_search_right_border(ans[0:i],ans[i])\n",
    "        while tmp != pos: #当tmp指针还没移动到pos位时执行交换；当在pos+1位时执行最后一次交换后，tmp==pos，达到终止条件\n",
    "            times_of_swap +=1\n",
    "            ans[tmp],ans[tmp-1] = ans[tmp-1],ans[tmp] #交换\n",
    "            tmp -=1 #下标左移一位\n",
    "    print('一共比较了%d次' %times_of_compare)\n",
    "    print('一共交换了%d次' %times_of_swap)\n",
    "    print('一共操作了%d次'%(times_of_compare+times_of_swap))\n",
    "    return ans\n",
    "assert insertion_sort_with_binary_search(nums)==ans"
   ]
  },
  {
   "cell_type": "markdown",
   "metadata": {},
   "source": [
    "# Merge Sort"
   ]
  }
 ],
 "metadata": {
  "kernelspec": {
   "display_name": "Python 3",
   "language": "python",
   "name": "python3"
  },
  "language_info": {
   "codemirror_mode": {
    "name": "ipython",
    "version": 3
   },
   "file_extension": ".py",
   "mimetype": "text/x-python",
   "name": "python",
   "nbconvert_exporter": "python",
   "pygments_lexer": "ipython3",
   "version": "3.8.5"
  }
 },
 "nbformat": 4,
 "nbformat_minor": 4
}
